{
 "cells": [
  {
   "cell_type": "code",
   "execution_count": 2,
   "metadata": {},
   "outputs": [],
   "source": [
    "import numpy as np\n",
    "import pandas as pd\n",
    "import matplotlib.pyplot as plt\n",
    "\n",
    "y = np.array([0,1,0,0,0,1,0,1,0,0,1,0,1,0,1,1,1,1,1,1,0,0,1,1,0,1,1,1,0,1,1,1,0,1,1,0,0,0,0,0,1,1,0,1,1,0,1,1,0,0,0,0,0,0,1,1,0,1,0,1])\n",
    "x  = np.array([[-0.018,-1.395,-0.752,-1.322,0.423,0.407,0.667,-2.460,0.569,-0.027,0.850,1.347,1.176,-1.781,-0.567,0.9316,-0.024,-0.036,-0.197,1.014,1.217,-0.733,-3.642,0.316,1.416,-0.386,1.985,-1.693,-0.576,-0.346,-2.124,0.557,1.225,-1.348,1.197,0.275,0.471,-1.889,-1.528,-1.185,-0.446,1.042,-0.619,1.152,0.828,-1.238,-0.683,0.229,-0.96,0.493,0.185,-0.356,-0.398,0.825,1.507,0.099,-0.344,1.786,-0.919,-0.346]\n",
    ",[14.053,4.662,6.539,7.153,11.055,7.067,12.741,6.867,9.549,10.428,6.920,13.175,3.167,9.098,5.749,1.589,6.151,2.690,0.444,5.754,9.597,9.098,-1.618,3.523,9.619,3.989,3.230,-0.557,11.778,-1.679,2.672,8.295,11.587,-2.406,4.952,9.544,9.332,9.543,12.15,11.309,3.297,6.105,10.32,0.548,2.676,10.549,-2.166,5.922,11.555,10.993,8.721,10.326,8.058,13.7303,5.028,6.837,10.717,7.718,11.56,4.474]\n",
    "])"
   ]
  },
  {
   "cell_type": "code",
   "execution_count": 3,
   "metadata": {},
   "outputs": [
    {
     "name": "stderr",
     "output_type": "stream",
     "text": [
      "D:\\python\\lib\\site-packages\\sklearn\\linear_model\\logistic.py:433: FutureWarning: Default solver will be changed to 'lbfgs' in 0.22. Specify a solver to silence this warning.\n",
      "  FutureWarning)\n"
     ]
    },
    {
     "name": "stdout",
     "output_type": "stream",
     "text": [
      "0 1 0 0 0 0 0 0 0 0 1 0 1 0 1 1 1 1 1 1 0 0 1 1 0 1 1 1 0 1 1 0 0 1 1 0 0 0 0 0 1 1 0 1 1 0 1 1 0 0 0 0 0 0 1 0 0 1 0 1 "
     ]
    }
   ],
   "source": [
    "from sklearn.linear_model import LogisticRegression\n",
    "logistic = LogisticRegression()\n",
    "logistic1 = logistic.fit(X = x.T,y = y.T)\n",
    "s = logistic1.predict(X = x.T)\n",
    "for i in s:\n",
    "    print(i,end = \" \")"
   ]
  },
  {
   "cell_type": "code",
   "execution_count": 19,
   "metadata": {},
   "outputs": [
    {
     "data": {
      "image/png": "[encoded data removed]",
      "text/plain": [
       "<Figure size 432x288 with 1 Axes>"
      ]
     },
     "metadata": {
      "needs_background": "light"
     },
     "output_type": "display_data"
    }
   ],
   "source": [
    "def Logistic(beta,X,y):\n",
    "    def lin_loss_grad(beta,X,y):\n",
    "        return X.T @ (X @ beta - y)\n",
    "    def loss(beta,X,y):\n",
    "        return sum((X @ beta - y)**2)\n",
    "    r,max_iter = 1e-3,100\n",
    "    beta_list = []\n",
    "    loss_list = []\n",
    "    for i in range(max_iter):\n",
    "        beta = beta - r*lin_loss_grad(beta,X,y)\n",
    "        beta_list.append(beta)\n",
    "        loss_list.append(loss(beta,X,y))\n",
    "    return beta_list,loss_list\n",
    "if __name__ == \"__main__\":\n",
    "    N = 100\n",
    "    beta = np.random.rand(2,1)*2 -1\n",
    "    x = np.linspace(-1,1,N).reshape(-1,1)\n",
    "    X = np.hstack((x,np.ones(N).reshape(-1,1)))\n",
    "    y = 0.5*x + (np.random.rand(N,1)*0.1 - 0.5)\n",
    "    plt.plot(x,y,'+r')\n",
    "    beta_list,loss_list = Logistic(beta,X,y)\n",
    "    plt.show()"
   ]
  },
  {
   "cell_type": "code",
   "execution_count": 12,
   "metadata": {},
   "outputs": [
    {
     "data": {
      "text/plain": [
       "[<matplotlib.lines.Line2D at 0x24cfae0aeb8>]"
      ]
     },
     "execution_count": 12,
     "metadata": {},
     "output_type": "execute_result"
    },
    {
     "data": {
      "image/png": "[encoded data removed]",
      "text/plain": [
       "<Figure size 432x288 with 1 Axes>"
      ]
     },
     "metadata": {
      "needs_background": "light"
     },
     "output_type": "display_data"
    }
   ],
   "source": [
    "# 损失函数的变化趋势\n",
    "plt.plot(loss_list)"
   ]
  },
  {
   "cell_type": "code",
   "execution_count": 20,
   "metadata": {},
   "outputs": [
    {
     "data": {
      "image/png": "[encoded data removed]",
      "text/plain": [
       "<Figure size 432x288 with 1 Axes>"
      ]
     },
     "metadata": {
      "needs_background": "light"
     },
     "output_type": "display_data"
    }
   ],
   "source": [
    "plt.plot(np.array(beta_list).reshape(N,2))\n",
    "plt.show()"
   ]
  },
  {
   "cell_type": "code",
   "execution_count": null,
   "metadata": {},
   "outputs": [],
   "source": []
  }
 ],
 "metadata": {
  "kernelspec": {
   "display_name": "Python 3",
   "language": "python",
   "name": "python3"
  },
  "language_info": {
   "codemirror_mode": {
    "name": "ipython",
    "version": 3
   },
   "file_extension": ".py",
   "mimetype": "text/x-python",
   "name": "python",
   "nbconvert_exporter": "python",
   "pygments_lexer": "ipython3",
   "version": "3.7.3"
  }
 },
 "nbformat": 4,
 "nbformat_minor": 2
}
